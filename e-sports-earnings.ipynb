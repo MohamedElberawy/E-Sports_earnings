{
 "cells": [
  {
   "cell_type": "code",
   "execution_count": 1,
   "id": "f5182834",
   "metadata": {
    "execution": {
     "iopub.execute_input": "2023-06-29T10:38:49.539717Z",
     "iopub.status.busy": "2023-06-29T10:38:49.538873Z",
     "iopub.status.idle": "2023-06-29T10:38:51.685569Z",
     "shell.execute_reply": "2023-06-29T10:38:51.684631Z"
    },
    "papermill": {
     "duration": 2.160585,
     "end_time": "2023-06-29T10:38:51.688132",
     "exception": false,
     "start_time": "2023-06-29T10:38:49.527547",
     "status": "completed"
    },
    "tags": []
   },
   "outputs": [],
   "source": [
    "# importing Libraries\n",
    "import pandas as pd\n",
    "import numpy as np\n",
    "import matplotlib.pyplot as plt\n",
    "import seaborn as sns\n",
    "import plotly.express as px\n",
    "plt.style.use('ggplot')\n",
    "# to display all of the columns\n",
    "pd.set_option('display.max_columns', 500)"
   ]
  },
  {
   "cell_type": "code",
   "execution_count": 2,
   "id": "89cc41ef",
   "metadata": {
    "execution": {
     "iopub.execute_input": "2023-06-29T10:38:51.704119Z",
     "iopub.status.busy": "2023-06-29T10:38:51.703347Z",
     "iopub.status.idle": "2023-06-29T10:38:51.743212Z",
     "shell.execute_reply": "2023-06-29T10:38:51.742138Z"
    },
    "papermill": {
     "duration": 0.050762,
     "end_time": "2023-06-29T10:38:51.745802",
     "exception": false,
     "start_time": "2023-06-29T10:38:51.695040",
     "status": "completed"
    },
    "tags": []
   },
   "outputs": [],
   "source": [
    "players_df = pd.read_csv('/kaggle/input/esports-earnings-for-players-teams-by-game/highest_earning_players.csv')\n",
    "teams_df = pd.read_csv('/kaggle/input/esports-earnings-for-players-teams-by-game/highest_earning_teams.csv')"
   ]
  },
  {
   "cell_type": "markdown",
   "id": "507ba9aa",
   "metadata": {
    "papermill": {
     "duration": 0.006137,
     "end_time": "2023-06-29T10:38:51.758567",
     "exception": false,
     "start_time": "2023-06-29T10:38:51.752430",
     "status": "completed"
    },
    "tags": []
   },
   "source": [
    "# Exploring Teams DataSet"
   ]
  },
  {
   "cell_type": "code",
   "execution_count": 3,
   "id": "bc113ee4",
   "metadata": {
    "execution": {
     "iopub.execute_input": "2023-06-29T10:38:51.773205Z",
     "iopub.status.busy": "2023-06-29T10:38:51.772843Z",
     "iopub.status.idle": "2023-06-29T10:38:51.801961Z",
     "shell.execute_reply": "2023-06-29T10:38:51.800737Z"
    },
    "papermill": {
     "duration": 0.040243,
     "end_time": "2023-06-29T10:38:51.805245",
     "exception": false,
     "start_time": "2023-06-29T10:38:51.765002",
     "status": "completed"
    },
    "tags": []
   },
   "outputs": [
    {
     "data": {
      "text/html": [
       "<div>\n",
       "<style scoped>\n",
       "    .dataframe tbody tr th:only-of-type {\n",
       "        vertical-align: middle;\n",
       "    }\n",
       "\n",
       "    .dataframe tbody tr th {\n",
       "        vertical-align: top;\n",
       "    }\n",
       "\n",
       "    .dataframe thead th {\n",
       "        text-align: right;\n",
       "    }\n",
       "</style>\n",
       "<table border=\"1\" class=\"dataframe\">\n",
       "  <thead>\n",
       "    <tr style=\"text-align: right;\">\n",
       "      <th></th>\n",
       "      <th>TeamId</th>\n",
       "      <th>TeamName</th>\n",
       "      <th>TotalUSDPrize</th>\n",
       "      <th>TotalTournaments</th>\n",
       "      <th>Game</th>\n",
       "      <th>Genre</th>\n",
       "    </tr>\n",
       "  </thead>\n",
       "  <tbody>\n",
       "    <tr>\n",
       "      <th>0</th>\n",
       "      <td>760</td>\n",
       "      <td>San Francisco Shock</td>\n",
       "      <td>3105000.0</td>\n",
       "      <td>7</td>\n",
       "      <td>Overwatch</td>\n",
       "      <td>First-Person Shooter</td>\n",
       "    </tr>\n",
       "    <tr>\n",
       "      <th>1</th>\n",
       "      <td>776</td>\n",
       "      <td>London Spitfire</td>\n",
       "      <td>1591136.5</td>\n",
       "      <td>13</td>\n",
       "      <td>Overwatch</td>\n",
       "      <td>First-Person Shooter</td>\n",
       "    </tr>\n",
       "    <tr>\n",
       "      <th>2</th>\n",
       "      <td>768</td>\n",
       "      <td>New York Excelsior</td>\n",
       "      <td>1572618.5</td>\n",
       "      <td>18</td>\n",
       "      <td>Overwatch</td>\n",
       "      <td>First-Person Shooter</td>\n",
       "    </tr>\n",
       "    <tr>\n",
       "      <th>3</th>\n",
       "      <td>773</td>\n",
       "      <td>Philadelphia Fusion</td>\n",
       "      <td>1186278.5</td>\n",
       "      <td>15</td>\n",
       "      <td>Overwatch</td>\n",
       "      <td>First-Person Shooter</td>\n",
       "    </tr>\n",
       "    <tr>\n",
       "      <th>4</th>\n",
       "      <td>766</td>\n",
       "      <td>Seoul Dynasty</td>\n",
       "      <td>1130000.0</td>\n",
       "      <td>6</td>\n",
       "      <td>Overwatch</td>\n",
       "      <td>First-Person Shooter</td>\n",
       "    </tr>\n",
       "  </tbody>\n",
       "</table>\n",
       "</div>"
      ],
      "text/plain": [
       "   TeamId             TeamName  TotalUSDPrize  TotalTournaments       Game  \\\n",
       "0     760  San Francisco Shock      3105000.0                 7  Overwatch   \n",
       "1     776      London Spitfire      1591136.5                13  Overwatch   \n",
       "2     768   New York Excelsior      1572618.5                18  Overwatch   \n",
       "3     773  Philadelphia Fusion      1186278.5                15  Overwatch   \n",
       "4     766        Seoul Dynasty      1130000.0                 6  Overwatch   \n",
       "\n",
       "                  Genre  \n",
       "0  First-Person Shooter  \n",
       "1  First-Person Shooter  \n",
       "2  First-Person Shooter  \n",
       "3  First-Person Shooter  \n",
       "4  First-Person Shooter  "
      ]
     },
     "execution_count": 3,
     "metadata": {},
     "output_type": "execute_result"
    }
   ],
   "source": [
    "teams_df.head()"
   ]
  },
  {
   "cell_type": "code",
   "execution_count": 4,
   "id": "706fe16b",
   "metadata": {
    "execution": {
     "iopub.execute_input": "2023-06-29T10:38:51.820236Z",
     "iopub.status.busy": "2023-06-29T10:38:51.819873Z",
     "iopub.status.idle": "2023-06-29T10:38:51.830916Z",
     "shell.execute_reply": "2023-06-29T10:38:51.829733Z"
    },
    "papermill": {
     "duration": 0.021325,
     "end_time": "2023-06-29T10:38:51.833354",
     "exception": false,
     "start_time": "2023-06-29T10:38:51.812029",
     "status": "completed"
    },
    "tags": []
   },
   "outputs": [
    {
     "data": {
      "text/plain": [
       "TeamId              0\n",
       "TeamName            0\n",
       "TotalUSDPrize       0\n",
       "TotalTournaments    0\n",
       "Game                0\n",
       "Genre               0\n",
       "dtype: int64"
      ]
     },
     "execution_count": 4,
     "metadata": {},
     "output_type": "execute_result"
    }
   ],
   "source": [
    "# checking for null values\n",
    "teams_df.isna().sum()"
   ]
  },
  {
   "cell_type": "code",
   "execution_count": 5,
   "id": "ba1eeddd",
   "metadata": {
    "execution": {
     "iopub.execute_input": "2023-06-29T10:38:51.849948Z",
     "iopub.status.busy": "2023-06-29T10:38:51.849116Z",
     "iopub.status.idle": "2023-06-29T10:38:51.855627Z",
     "shell.execute_reply": "2023-06-29T10:38:51.854788Z"
    },
    "papermill": {
     "duration": 0.017082,
     "end_time": "2023-06-29T10:38:51.857764",
     "exception": false,
     "start_time": "2023-06-29T10:38:51.840682",
     "status": "completed"
    },
    "tags": []
   },
   "outputs": [
    {
     "data": {
      "text/plain": [
       "(928, 6)"
      ]
     },
     "execution_count": 5,
     "metadata": {},
     "output_type": "execute_result"
    }
   ],
   "source": [
    "teams_df.shape"
   ]
  },
  {
   "cell_type": "code",
   "execution_count": 6,
   "id": "26c005ea",
   "metadata": {
    "execution": {
     "iopub.execute_input": "2023-06-29T10:38:51.874105Z",
     "iopub.status.busy": "2023-06-29T10:38:51.873348Z",
     "iopub.status.idle": "2023-06-29T10:38:51.882769Z",
     "shell.execute_reply": "2023-06-29T10:38:51.881685Z"
    },
    "papermill": {
     "duration": 0.020111,
     "end_time": "2023-06-29T10:38:51.884987",
     "exception": false,
     "start_time": "2023-06-29T10:38:51.864876",
     "status": "completed"
    },
    "tags": []
   },
   "outputs": [
    {
     "data": {
      "text/plain": [
       "array(['Overwatch', 'Starcraft II', 'League of Legends', 'Fortnite',\n",
       "       'Counter-Strike: Global Offensive', 'Dota 2', 'PUBG',\n",
       "       'Heroes of the Storm', 'Hearthstone', 'Arena of Valor'],\n",
       "      dtype=object)"
      ]
     },
     "execution_count": 6,
     "metadata": {},
     "output_type": "execute_result"
    }
   ],
   "source": [
    "# show all the games in the dataset\n",
    "teams_df['Game'].unique()"
   ]
  },
  {
   "cell_type": "code",
   "execution_count": 7,
   "id": "a30d3cd0",
   "metadata": {
    "execution": {
     "iopub.execute_input": "2023-06-29T10:38:51.901979Z",
     "iopub.status.busy": "2023-06-29T10:38:51.901203Z",
     "iopub.status.idle": "2023-06-29T10:38:51.908940Z",
     "shell.execute_reply": "2023-06-29T10:38:51.907900Z"
    },
    "papermill": {
     "duration": 0.018557,
     "end_time": "2023-06-29T10:38:51.911017",
     "exception": false,
     "start_time": "2023-06-29T10:38:51.892460",
     "status": "completed"
    },
    "tags": []
   },
   "outputs": [
    {
     "data": {
      "text/plain": [
       "TeamId                int64\n",
       "TeamName             object\n",
       "TotalUSDPrize       float64\n",
       "TotalTournaments      int64\n",
       "Game                 object\n",
       "Genre                object\n",
       "dtype: object"
      ]
     },
     "execution_count": 7,
     "metadata": {},
     "output_type": "execute_result"
    }
   ],
   "source": [
    "teams_df.dtypes"
   ]
  },
  {
   "cell_type": "markdown",
   "id": "5dc551c1",
   "metadata": {
    "papermill": {
     "duration": 0.006889,
     "end_time": "2023-06-29T10:38:51.925073",
     "exception": false,
     "start_time": "2023-06-29T10:38:51.918184",
     "status": "completed"
    },
    "tags": []
   },
   "source": [
    "# We'll find the top 5 teams' earnings."
   ]
  },
  {
   "cell_type": "code",
   "execution_count": 8,
   "id": "d836c8ba",
   "metadata": {
    "execution": {
     "iopub.execute_input": "2023-06-29T10:38:51.941712Z",
     "iopub.status.busy": "2023-06-29T10:38:51.941040Z",
     "iopub.status.idle": "2023-06-29T10:38:52.216479Z",
     "shell.execute_reply": "2023-06-29T10:38:52.215273Z"
    },
    "papermill": {
     "duration": 0.2865,
     "end_time": "2023-06-29T10:38:52.218909",
     "exception": false,
     "start_time": "2023-06-29T10:38:51.932409",
     "status": "completed"
    },
    "tags": []
   },
   "outputs": [
    {
     "data": {
      "image/png": "[encoded data removed]",
      "text/plain": [
       "<Figure size 1000x500 with 1 Axes>"
      ]
     },
     "metadata": {},
     "output_type": "display_data"
    }
   ],
   "source": [
    "fig,ax = plt.subplots(figsize=(10, 5))\n",
    "data = teams_df.nlargest(5,'TotalUSDPrize')\n",
    "sns.barplot(x=\"TeamName\", y=\"TotalUSDPrize\",ax=ax, data=data )\n",
    "plt.show()"
   ]
  },
  {
   "cell_type": "markdown",
   "id": "c51ab95c",
   "metadata": {
    "papermill": {
     "duration": 0.007247,
     "end_time": "2023-06-29T10:38:52.233919",
     "exception": false,
     "start_time": "2023-06-29T10:38:52.226672",
     "status": "completed"
    },
    "tags": []
   },
   "source": [
    "# Let's Find the average prize money of each game to know the highest paying 5 games\n",
    "- we're using the filter method to select only the groups where the mean prize amount is greater than 2.076906e+05. Note that we're using a lambda function to apply the filter, which takes a dataframe x as input and returns True if the mean of the TotalUSDPrize column is greater than 2.076906e+05, and False otherwise.\n",
    "\n",
    "- After filtering the DataFrame, we're grouping it again by the Game column and calculating the mean of the TotalUSDPrize column for each group. Finally, we're using the reset_index method to reset the index of the resulting DataFrame."
   ]
  },
  {
   "cell_type": "code",
   "execution_count": 9,
   "id": "28a30c2f",
   "metadata": {
    "execution": {
     "iopub.execute_input": "2023-06-29T10:38:52.250967Z",
     "iopub.status.busy": "2023-06-29T10:38:52.250603Z",
     "iopub.status.idle": "2023-06-29T10:38:52.272685Z",
     "shell.execute_reply": "2023-06-29T10:38:52.271630Z"
    },
    "papermill": {
     "duration": 0.03365,
     "end_time": "2023-06-29T10:38:52.275217",
     "exception": false,
     "start_time": "2023-06-29T10:38:52.241567",
     "status": "completed"
    },
    "tags": []
   },
   "outputs": [
    {
     "data": {
      "text/html": [
       "<div>\n",
       "<style scoped>\n",
       "    .dataframe tbody tr th:only-of-type {\n",
       "        vertical-align: middle;\n",
       "    }\n",
       "\n",
       "    .dataframe tbody tr th {\n",
       "        vertical-align: top;\n",
       "    }\n",
       "\n",
       "    .dataframe thead th {\n",
       "        text-align: right;\n",
       "    }\n",
       "</style>\n",
       "<table border=\"1\" class=\"dataframe\">\n",
       "  <thead>\n",
       "    <tr style=\"text-align: right;\">\n",
       "      <th></th>\n",
       "      <th>Game</th>\n",
       "      <th>TotalUSDPrize</th>\n",
       "    </tr>\n",
       "  </thead>\n",
       "  <tbody>\n",
       "    <tr>\n",
       "      <th>0</th>\n",
       "      <td>Counter-Strike: Global Offensive</td>\n",
       "      <td>8.485393e+05</td>\n",
       "    </tr>\n",
       "    <tr>\n",
       "      <th>1</th>\n",
       "      <td>Dota 2</td>\n",
       "      <td>2.202828e+06</td>\n",
       "    </tr>\n",
       "    <tr>\n",
       "      <th>2</th>\n",
       "      <td>Fortnite</td>\n",
       "      <td>3.466133e+05</td>\n",
       "    </tr>\n",
       "    <tr>\n",
       "      <th>3</th>\n",
       "      <td>League of Legends</td>\n",
       "      <td>6.466556e+05</td>\n",
       "    </tr>\n",
       "    <tr>\n",
       "      <th>4</th>\n",
       "      <td>Starcraft II</td>\n",
       "      <td>2.785615e+05</td>\n",
       "    </tr>\n",
       "  </tbody>\n",
       "</table>\n",
       "</div>"
      ],
      "text/plain": [
       "                               Game  TotalUSDPrize\n",
       "0  Counter-Strike: Global Offensive   8.485393e+05\n",
       "1                            Dota 2   2.202828e+06\n",
       "2                          Fortnite   3.466133e+05\n",
       "3                 League of Legends   6.466556e+05\n",
       "4                      Starcraft II   2.785615e+05"
      ]
     },
     "execution_count": 9,
     "metadata": {},
     "output_type": "execute_result"
    }
   ],
   "source": [
    "games_prize = teams_df.groupby('Game') \\\n",
    "        .filter(lambda x: x['TotalUSDPrize'].mean() > 2.076906e+05) \\\n",
    "        .groupby('Game')['TotalUSDPrize'].mean().reset_index()\n",
    "games_prize"
   ]
  },
  {
   "cell_type": "code",
   "execution_count": 10,
   "id": "a16e0f16",
   "metadata": {
    "execution": {
     "iopub.execute_input": "2023-06-29T10:38:52.293187Z",
     "iopub.status.busy": "2023-06-29T10:38:52.292036Z",
     "iopub.status.idle": "2023-06-29T10:38:52.514486Z",
     "shell.execute_reply": "2023-06-29T10:38:52.513234Z"
    },
    "papermill": {
     "duration": 0.234573,
     "end_time": "2023-06-29T10:38:52.517498",
     "exception": false,
     "start_time": "2023-06-29T10:38:52.282925",
     "status": "completed"
    },
    "tags": []
   },
   "outputs": [
    {
     "data": {
      "image/png": "[encoded data removed]",
      "text/plain": [
       "<Figure size 1500x500 with 1 Axes>"
      ]
     },
     "metadata": {},
     "output_type": "display_data"
    }
   ],
   "source": [
    "fig,ax = plt.subplots(figsize=(15, 5))\n",
    "labels = games_prize['Game']\n",
    "prizes = games_prize['TotalUSDPrize'].sort_values(ascending=False)\n",
    "plt.bar( labels, height = prizes)\n",
    "plt.show()"
   ]
  },
  {
   "cell_type": "markdown",
   "id": "139712be",
   "metadata": {
    "papermill": {
     "duration": 0.007911,
     "end_time": "2023-06-29T10:38:52.533743",
     "exception": false,
     "start_time": "2023-06-29T10:38:52.525832",
     "status": "completed"
    },
    "tags": []
   },
   "source": [
    "# Exploring Players Dataset"
   ]
  },
  {
   "cell_type": "code",
   "execution_count": 11,
   "id": "400ab0e1",
   "metadata": {
    "execution": {
     "iopub.execute_input": "2023-06-29T10:38:52.553061Z",
     "iopub.status.busy": "2023-06-29T10:38:52.552673Z",
     "iopub.status.idle": "2023-06-29T10:38:52.567340Z",
     "shell.execute_reply": "2023-06-29T10:38:52.566277Z"
    },
    "papermill": {
     "duration": 0.027452,
     "end_time": "2023-06-29T10:38:52.569717",
     "exception": false,
     "start_time": "2023-06-29T10:38:52.542265",
     "status": "completed"
    },
    "tags": []
   },
   "outputs": [
    {
     "data": {
      "text/html": [
       "<div>\n",
       "<style scoped>\n",
       "    .dataframe tbody tr th:only-of-type {\n",
       "        vertical-align: middle;\n",
       "    }\n",
       "\n",
       "    .dataframe tbody tr th {\n",
       "        vertical-align: top;\n",
       "    }\n",
       "\n",
       "    .dataframe thead th {\n",
       "        text-align: right;\n",
       "    }\n",
       "</style>\n",
       "<table border=\"1\" class=\"dataframe\">\n",
       "  <thead>\n",
       "    <tr style=\"text-align: right;\">\n",
       "      <th></th>\n",
       "      <th>PlayerId</th>\n",
       "      <th>NameFirst</th>\n",
       "      <th>NameLast</th>\n",
       "      <th>CurrentHandle</th>\n",
       "      <th>CountryCode</th>\n",
       "      <th>TotalUSDPrize</th>\n",
       "      <th>Game</th>\n",
       "      <th>Genre</th>\n",
       "    </tr>\n",
       "  </thead>\n",
       "  <tbody>\n",
       "    <tr>\n",
       "      <th>0</th>\n",
       "      <td>3883</td>\n",
       "      <td>Peter</td>\n",
       "      <td>Rasmussen</td>\n",
       "      <td>dupreeh</td>\n",
       "      <td>dk</td>\n",
       "      <td>1822989.41</td>\n",
       "      <td>Counter-Strike: Global Offensive</td>\n",
       "      <td>First-Person Shooter</td>\n",
       "    </tr>\n",
       "    <tr>\n",
       "      <th>1</th>\n",
       "      <td>3679</td>\n",
       "      <td>Andreas</td>\n",
       "      <td>Højsleth</td>\n",
       "      <td>Xyp9x</td>\n",
       "      <td>dk</td>\n",
       "      <td>1799288.57</td>\n",
       "      <td>Counter-Strike: Global Offensive</td>\n",
       "      <td>First-Person Shooter</td>\n",
       "    </tr>\n",
       "    <tr>\n",
       "      <th>2</th>\n",
       "      <td>3885</td>\n",
       "      <td>Nicolai</td>\n",
       "      <td>Reedtz</td>\n",
       "      <td>dev1ce</td>\n",
       "      <td>dk</td>\n",
       "      <td>1787489.88</td>\n",
       "      <td>Counter-Strike: Global Offensive</td>\n",
       "      <td>First-Person Shooter</td>\n",
       "    </tr>\n",
       "    <tr>\n",
       "      <th>3</th>\n",
       "      <td>3672</td>\n",
       "      <td>Lukas</td>\n",
       "      <td>Rossander</td>\n",
       "      <td>gla1ve</td>\n",
       "      <td>dk</td>\n",
       "      <td>1652350.75</td>\n",
       "      <td>Counter-Strike: Global Offensive</td>\n",
       "      <td>First-Person Shooter</td>\n",
       "    </tr>\n",
       "    <tr>\n",
       "      <th>4</th>\n",
       "      <td>17800</td>\n",
       "      <td>Emil</td>\n",
       "      <td>Reif</td>\n",
       "      <td>Magisk</td>\n",
       "      <td>dk</td>\n",
       "      <td>1416448.64</td>\n",
       "      <td>Counter-Strike: Global Offensive</td>\n",
       "      <td>First-Person Shooter</td>\n",
       "    </tr>\n",
       "    <tr>\n",
       "      <th>5</th>\n",
       "      <td>16800</td>\n",
       "      <td>Jakey</td>\n",
       "      <td>Yip</td>\n",
       "      <td>Stewie2k</td>\n",
       "      <td>us</td>\n",
       "      <td>1087340.00</td>\n",
       "      <td>Counter-Strike: Global Offensive</td>\n",
       "      <td>First-Person Shooter</td>\n",
       "    </tr>\n",
       "    <tr>\n",
       "      <th>6</th>\n",
       "      <td>12183</td>\n",
       "      <td>Epitácio</td>\n",
       "      <td>de Melo</td>\n",
       "      <td>TACO</td>\n",
       "      <td>br</td>\n",
       "      <td>1063858.27</td>\n",
       "      <td>Counter-Strike: Global Offensive</td>\n",
       "      <td>First-Person Shooter</td>\n",
       "    </tr>\n",
       "    <tr>\n",
       "      <th>7</th>\n",
       "      <td>12169</td>\n",
       "      <td>Fernando</td>\n",
       "      <td>Alvarenga</td>\n",
       "      <td>fer</td>\n",
       "      <td>br</td>\n",
       "      <td>1063038.92</td>\n",
       "      <td>Counter-Strike: Global Offensive</td>\n",
       "      <td>First-Person Shooter</td>\n",
       "    </tr>\n",
       "    <tr>\n",
       "      <th>8</th>\n",
       "      <td>2455</td>\n",
       "      <td>Gabriel</td>\n",
       "      <td>Toledo</td>\n",
       "      <td>FalleN</td>\n",
       "      <td>br</td>\n",
       "      <td>1059938.92</td>\n",
       "      <td>Counter-Strike: Global Offensive</td>\n",
       "      <td>First-Person Shooter</td>\n",
       "    </tr>\n",
       "    <tr>\n",
       "      <th>9</th>\n",
       "      <td>12182</td>\n",
       "      <td>Marcelo</td>\n",
       "      <td>David</td>\n",
       "      <td>coldzera</td>\n",
       "      <td>br</td>\n",
       "      <td>1021901.46</td>\n",
       "      <td>Counter-Strike: Global Offensive</td>\n",
       "      <td>First-Person Shooter</td>\n",
       "    </tr>\n",
       "  </tbody>\n",
       "</table>\n",
       "</div>"
      ],
      "text/plain": [
       "   PlayerId NameFirst   NameLast CurrentHandle CountryCode  TotalUSDPrize  \\\n",
       "0      3883     Peter  Rasmussen       dupreeh          dk     1822989.41   \n",
       "1      3679   Andreas   Højsleth         Xyp9x          dk     1799288.57   \n",
       "2      3885   Nicolai     Reedtz        dev1ce          dk     1787489.88   \n",
       "3      3672     Lukas  Rossander        gla1ve          dk     1652350.75   \n",
       "4     17800      Emil       Reif        Magisk          dk     1416448.64   \n",
       "5     16800     Jakey        Yip      Stewie2k          us     1087340.00   \n",
       "6     12183  Epitácio    de Melo          TACO          br     1063858.27   \n",
       "7     12169  Fernando  Alvarenga           fer          br     1063038.92   \n",
       "8      2455   Gabriel     Toledo        FalleN          br     1059938.92   \n",
       "9     12182   Marcelo      David      coldzera          br     1021901.46   \n",
       "\n",
       "                               Game                 Genre  \n",
       "0  Counter-Strike: Global Offensive  First-Person Shooter  \n",
       "1  Counter-Strike: Global Offensive  First-Person Shooter  \n",
       "2  Counter-Strike: Global Offensive  First-Person Shooter  \n",
       "3  Counter-Strike: Global Offensive  First-Person Shooter  \n",
       "4  Counter-Strike: Global Offensive  First-Person Shooter  \n",
       "5  Counter-Strike: Global Offensive  First-Person Shooter  \n",
       "6  Counter-Strike: Global Offensive  First-Person Shooter  \n",
       "7  Counter-Strike: Global Offensive  First-Person Shooter  \n",
       "8  Counter-Strike: Global Offensive  First-Person Shooter  \n",
       "9  Counter-Strike: Global Offensive  First-Person Shooter  "
      ]
     },
     "execution_count": 11,
     "metadata": {},
     "output_type": "execute_result"
    }
   ],
   "source": [
    "players_df.head(10)"
   ]
  },
  {
   "cell_type": "code",
   "execution_count": 12,
   "id": "a84efdb9",
   "metadata": {
    "execution": {
     "iopub.execute_input": "2023-06-29T10:38:52.589468Z",
     "iopub.status.busy": "2023-06-29T10:38:52.588301Z",
     "iopub.status.idle": "2023-06-29T10:38:52.598083Z",
     "shell.execute_reply": "2023-06-29T10:38:52.597115Z"
    },
    "papermill": {
     "duration": 0.021884,
     "end_time": "2023-06-29T10:38:52.600344",
     "exception": false,
     "start_time": "2023-06-29T10:38:52.578460",
     "status": "completed"
    },
    "tags": []
   },
   "outputs": [
    {
     "data": {
      "text/plain": [
       "PlayerId         0\n",
       "NameFirst        0\n",
       "NameLast         0\n",
       "CurrentHandle    0\n",
       "CountryCode      0\n",
       "TotalUSDPrize    0\n",
       "Game             0\n",
       "Genre            0\n",
       "dtype: int64"
      ]
     },
     "execution_count": 12,
     "metadata": {},
     "output_type": "execute_result"
    }
   ],
   "source": [
    "# checking for  null values\n",
    "players_df.isna().sum()"
   ]
  },
  {
   "cell_type": "code",
   "execution_count": 13,
   "id": "7be7ba2d",
   "metadata": {
    "execution": {
     "iopub.execute_input": "2023-06-29T10:38:52.619838Z",
     "iopub.status.busy": "2023-06-29T10:38:52.619062Z",
     "iopub.status.idle": "2023-06-29T10:38:52.626836Z",
     "shell.execute_reply": "2023-06-29T10:38:52.625749Z"
    },
    "papermill": {
     "duration": 0.020056,
     "end_time": "2023-06-29T10:38:52.629033",
     "exception": false,
     "start_time": "2023-06-29T10:38:52.608977",
     "status": "completed"
    },
    "tags": []
   },
   "outputs": [
    {
     "data": {
      "text/plain": [
       "PlayerId           int64\n",
       "NameFirst         object\n",
       "NameLast          object\n",
       "CurrentHandle     object\n",
       "CountryCode       object\n",
       "TotalUSDPrize    float64\n",
       "Game              object\n",
       "Genre             object\n",
       "dtype: object"
      ]
     },
     "execution_count": 13,
     "metadata": {},
     "output_type": "execute_result"
    }
   ],
   "source": [
    "players_df.dtypes"
   ]
  },
  {
   "cell_type": "code",
   "execution_count": 14,
   "id": "7cda44eb",
   "metadata": {
    "execution": {
     "iopub.execute_input": "2023-06-29T10:38:52.648605Z",
     "iopub.status.busy": "2023-06-29T10:38:52.648166Z",
     "iopub.status.idle": "2023-06-29T10:38:52.654184Z",
     "shell.execute_reply": "2023-06-29T10:38:52.653336Z"
    },
    "papermill": {
     "duration": 0.018153,
     "end_time": "2023-06-29T10:38:52.656104",
     "exception": false,
     "start_time": "2023-06-29T10:38:52.637951",
     "status": "completed"
    },
    "tags": []
   },
   "outputs": [
    {
     "data": {
      "text/plain": [
       "(1000, 8)"
      ]
     },
     "execution_count": 14,
     "metadata": {},
     "output_type": "execute_result"
    }
   ],
   "source": [
    "players_df.shape"
   ]
  },
  {
   "cell_type": "markdown",
   "id": "6c0f3705",
   "metadata": {
    "papermill": {
     "duration": 0.008656,
     "end_time": "2023-06-29T10:38:52.673463",
     "exception": false,
     "start_time": "2023-06-29T10:38:52.664807",
     "status": "completed"
    },
    "tags": []
   },
   "source": [
    "# Finding the Top Participating  Countries "
   ]
  },
  {
   "cell_type": "code",
   "execution_count": 15,
   "id": "e6703586",
   "metadata": {
    "execution": {
     "iopub.execute_input": "2023-06-29T10:38:52.692943Z",
     "iopub.status.busy": "2023-06-29T10:38:52.692265Z",
     "iopub.status.idle": "2023-06-29T10:38:52.706968Z",
     "shell.execute_reply": "2023-06-29T10:38:52.705851Z"
    },
    "papermill": {
     "duration": 0.027069,
     "end_time": "2023-06-29T10:38:52.709319",
     "exception": false,
     "start_time": "2023-06-29T10:38:52.682250",
     "status": "completed"
    },
    "tags": []
   },
   "outputs": [
    {
     "data": {
      "text/html": [
       "<div>\n",
       "<style scoped>\n",
       "    .dataframe tbody tr th:only-of-type {\n",
       "        vertical-align: middle;\n",
       "    }\n",
       "\n",
       "    .dataframe tbody tr th {\n",
       "        vertical-align: top;\n",
       "    }\n",
       "\n",
       "    .dataframe thead th {\n",
       "        text-align: right;\n",
       "    }\n",
       "</style>\n",
       "<table border=\"1\" class=\"dataframe\">\n",
       "  <thead>\n",
       "    <tr style=\"text-align: right;\">\n",
       "      <th></th>\n",
       "      <th>CountryCode</th>\n",
       "      <th>Count</th>\n",
       "    </tr>\n",
       "  </thead>\n",
       "  <tbody>\n",
       "    <tr>\n",
       "      <th>29</th>\n",
       "      <td>kr</td>\n",
       "      <td>251</td>\n",
       "    </tr>\n",
       "    <tr>\n",
       "      <th>10</th>\n",
       "      <td>cn</td>\n",
       "      <td>168</td>\n",
       "    </tr>\n",
       "    <tr>\n",
       "      <th>53</th>\n",
       "      <td>us</td>\n",
       "      <td>114</td>\n",
       "    </tr>\n",
       "    <tr>\n",
       "      <th>45</th>\n",
       "      <td>se</td>\n",
       "      <td>45</td>\n",
       "    </tr>\n",
       "    <tr>\n",
       "      <th>18</th>\n",
       "      <td>fr</td>\n",
       "      <td>37</td>\n",
       "    </tr>\n",
       "  </tbody>\n",
       "</table>\n",
       "</div>"
      ],
      "text/plain": [
       "   CountryCode  Count\n",
       "29          kr    251\n",
       "10          cn    168\n",
       "53          us    114\n",
       "45          se     45\n",
       "18          fr     37"
      ]
     },
     "execution_count": 15,
     "metadata": {},
     "output_type": "execute_result"
    }
   ],
   "source": [
    "pr_countries = players_df.groupby(['CountryCode']) \\\n",
    "              .size().reset_index().rename(columns={0:'Count'})\\\n",
    "              .sort_values('Count', ascending=False).head(5)\n",
    "pr_countries"
   ]
  },
  {
   "cell_type": "markdown",
   "id": "04a1c95a",
   "metadata": {
    "papermill": {
     "duration": 0.008657,
     "end_time": "2023-06-29T10:38:52.726988",
     "exception": false,
     "start_time": "2023-06-29T10:38:52.718331",
     "status": "completed"
    },
    "tags": []
   },
   "source": [
    "# Observations:\n",
    "- Most Participating Players are from korea"
   ]
  },
  {
   "cell_type": "markdown",
   "id": "415dfcc7",
   "metadata": {
    "papermill": {
     "duration": 0.008735,
     "end_time": "2023-06-29T10:38:52.744666",
     "exception": false,
     "start_time": "2023-06-29T10:38:52.735931",
     "status": "completed"
    },
    "tags": []
   },
   "source": [
    "# Plotting The Top 5 Countries"
   ]
  },
  {
   "cell_type": "code",
   "execution_count": 16,
   "id": "35038c7c",
   "metadata": {
    "execution": {
     "iopub.execute_input": "2023-06-29T10:38:52.764687Z",
     "iopub.status.busy": "2023-06-29T10:38:52.764043Z",
     "iopub.status.idle": "2023-06-29T10:38:52.909570Z",
     "shell.execute_reply": "2023-06-29T10:38:52.908236Z"
    },
    "papermill": {
     "duration": 0.159014,
     "end_time": "2023-06-29T10:38:52.912644",
     "exception": false,
     "start_time": "2023-06-29T10:38:52.753630",
     "status": "completed"
    },
    "tags": []
   },
   "outputs": [
    {
     "data": {
      "image/png": "[encoded data removed]",
      "text/plain": [
       "<Figure size 1000x500 with 1 Axes>"
      ]
     },
     "metadata": {},
     "output_type": "display_data"
    }
   ],
   "source": [
    "fig, ax = plt.subplots(figsize=(10,5))\n",
    "labels = pr_countries['CountryCode']\n",
    "count = pr_countries['Count']\n",
    "plt.pie(count, labels = labels, autopct='%1.2f%%')\n",
    "plt.show()"
   ]
  },
  {
   "cell_type": "markdown",
   "id": "725febf7",
   "metadata": {
    "papermill": {
     "duration": 0.014508,
     "end_time": "2023-06-29T10:38:52.942167",
     "exception": false,
     "start_time": "2023-06-29T10:38:52.927659",
     "status": "completed"
    },
    "tags": []
   },
   "source": [
    "# We are curious about the top 5 earning countries:\n",
    "1. First we wil  find the top 5 countries TotalUSDPrize \n",
    "2. Then plotting them with Sunburst Chart from PLotly Library"
   ]
  },
  {
   "cell_type": "code",
   "execution_count": 17,
   "id": "9a19d69a",
   "metadata": {
    "execution": {
     "iopub.execute_input": "2023-06-29T10:38:52.976069Z",
     "iopub.status.busy": "2023-06-29T10:38:52.975054Z",
     "iopub.status.idle": "2023-06-29T10:38:52.985550Z",
     "shell.execute_reply": "2023-06-29T10:38:52.984799Z"
    },
    "papermill": {
     "duration": 0.029959,
     "end_time": "2023-06-29T10:38:52.987518",
     "exception": false,
     "start_time": "2023-06-29T10:38:52.957559",
     "status": "completed"
    },
    "tags": []
   },
   "outputs": [
    {
     "data": {
      "text/plain": [
       "CountryCode\n",
       "cn    72391878.56\n",
       "kr    58441733.71\n",
       "us    43099381.78\n",
       "dk    26840800.02\n",
       "se    20770423.01\n",
       "Name: TotalUSDPrize, dtype: float64"
      ]
     },
     "execution_count": 17,
     "metadata": {},
     "output_type": "execute_result"
    }
   ],
   "source": [
    "total_prize_by_country = players_df.groupby('CountryCode')['TotalUSDPrize'].sum().sort_values(ascending=False).head(5)\n",
    "\n",
    "total_prize_by_country"
   ]
  },
  {
   "cell_type": "code",
   "execution_count": 18,
   "id": "f96dbad5",
   "metadata": {
    "execution": {
     "iopub.execute_input": "2023-06-29T10:38:53.008373Z",
     "iopub.status.busy": "2023-06-29T10:38:53.007669Z",
     "iopub.status.idle": "2023-06-29T10:38:53.028153Z",
     "shell.execute_reply": "2023-06-29T10:38:53.027073Z"
    },
    "papermill": {
     "duration": 0.033562,
     "end_time": "2023-06-29T10:38:53.030445",
     "exception": false,
     "start_time": "2023-06-29T10:38:52.996883",
     "status": "completed"
    },
    "tags": []
   },
   "outputs": [
    {
     "data": {
      "text/html": [
       "<div>\n",
       "<style scoped>\n",
       "    .dataframe tbody tr th:only-of-type {\n",
       "        vertical-align: middle;\n",
       "    }\n",
       "\n",
       "    .dataframe tbody tr th {\n",
       "        vertical-align: top;\n",
       "    }\n",
       "\n",
       "    .dataframe thead th {\n",
       "        text-align: right;\n",
       "    }\n",
       "</style>\n",
       "<table border=\"1\" class=\"dataframe\">\n",
       "  <thead>\n",
       "    <tr style=\"text-align: right;\">\n",
       "      <th></th>\n",
       "      <th>PlayerId</th>\n",
       "      <th>NameFirst</th>\n",
       "      <th>NameLast</th>\n",
       "      <th>CurrentHandle</th>\n",
       "      <th>CountryCode</th>\n",
       "      <th>TotalUSDPrize</th>\n",
       "      <th>Game</th>\n",
       "      <th>Genre</th>\n",
       "    </tr>\n",
       "  </thead>\n",
       "  <tbody>\n",
       "    <tr>\n",
       "      <th>0</th>\n",
       "      <td>3883</td>\n",
       "      <td>Peter</td>\n",
       "      <td>Rasmussen</td>\n",
       "      <td>dupreeh</td>\n",
       "      <td>dk</td>\n",
       "      <td>1822989.41</td>\n",
       "      <td>Counter-Strike: Global Offensive</td>\n",
       "      <td>First-Person Shooter</td>\n",
       "    </tr>\n",
       "    <tr>\n",
       "      <th>1</th>\n",
       "      <td>3679</td>\n",
       "      <td>Andreas</td>\n",
       "      <td>Højsleth</td>\n",
       "      <td>Xyp9x</td>\n",
       "      <td>dk</td>\n",
       "      <td>1799288.57</td>\n",
       "      <td>Counter-Strike: Global Offensive</td>\n",
       "      <td>First-Person Shooter</td>\n",
       "    </tr>\n",
       "    <tr>\n",
       "      <th>2</th>\n",
       "      <td>3885</td>\n",
       "      <td>Nicolai</td>\n",
       "      <td>Reedtz</td>\n",
       "      <td>dev1ce</td>\n",
       "      <td>dk</td>\n",
       "      <td>1787489.88</td>\n",
       "      <td>Counter-Strike: Global Offensive</td>\n",
       "      <td>First-Person Shooter</td>\n",
       "    </tr>\n",
       "    <tr>\n",
       "      <th>3</th>\n",
       "      <td>3672</td>\n",
       "      <td>Lukas</td>\n",
       "      <td>Rossander</td>\n",
       "      <td>gla1ve</td>\n",
       "      <td>dk</td>\n",
       "      <td>1652350.75</td>\n",
       "      <td>Counter-Strike: Global Offensive</td>\n",
       "      <td>First-Person Shooter</td>\n",
       "    </tr>\n",
       "    <tr>\n",
       "      <th>4</th>\n",
       "      <td>17800</td>\n",
       "      <td>Emil</td>\n",
       "      <td>Reif</td>\n",
       "      <td>Magisk</td>\n",
       "      <td>dk</td>\n",
       "      <td>1416448.64</td>\n",
       "      <td>Counter-Strike: Global Offensive</td>\n",
       "      <td>First-Person Shooter</td>\n",
       "    </tr>\n",
       "    <tr>\n",
       "      <th>...</th>\n",
       "      <td>...</td>\n",
       "      <td>...</td>\n",
       "      <td>...</td>\n",
       "      <td>...</td>\n",
       "      <td>...</td>\n",
       "      <td>...</td>\n",
       "      <td>...</td>\n",
       "      <td>...</td>\n",
       "    </tr>\n",
       "    <tr>\n",
       "      <th>992</th>\n",
       "      <td>29438</td>\n",
       "      <td>Anthony</td>\n",
       "      <td>Trevino</td>\n",
       "      <td>Ant</td>\n",
       "      <td>us</td>\n",
       "      <td>52375.00</td>\n",
       "      <td>Hearthstone</td>\n",
       "      <td>Collectible Card Game</td>\n",
       "    </tr>\n",
       "    <tr>\n",
       "      <th>993</th>\n",
       "      <td>38798</td>\n",
       "      <td>-</td>\n",
       "      <td>-</td>\n",
       "      <td>Trunks</td>\n",
       "      <td>cn</td>\n",
       "      <td>51231.70</td>\n",
       "      <td>Hearthstone</td>\n",
       "      <td>Collectible Card Game</td>\n",
       "    </tr>\n",
       "    <tr>\n",
       "      <th>996</th>\n",
       "      <td>3255</td>\n",
       "      <td>Drew</td>\n",
       "      <td>Biessener</td>\n",
       "      <td>Tidesoftime</td>\n",
       "      <td>us</td>\n",
       "      <td>50449.60</td>\n",
       "      <td>Hearthstone</td>\n",
       "      <td>Collectible Card Game</td>\n",
       "    </tr>\n",
       "    <tr>\n",
       "      <th>998</th>\n",
       "      <td>43043</td>\n",
       "      <td>Mike</td>\n",
       "      <td>Eichner</td>\n",
       "      <td>Ike</td>\n",
       "      <td>us</td>\n",
       "      <td>48550.00</td>\n",
       "      <td>Hearthstone</td>\n",
       "      <td>Collectible Card Game</td>\n",
       "    </tr>\n",
       "    <tr>\n",
       "      <th>999</th>\n",
       "      <td>1100</td>\n",
       "      <td>Jeffrey</td>\n",
       "      <td>Brusi</td>\n",
       "      <td>SjoW</td>\n",
       "      <td>se</td>\n",
       "      <td>47973.61</td>\n",
       "      <td>Hearthstone</td>\n",
       "      <td>Collectible Card Game</td>\n",
       "    </tr>\n",
       "  </tbody>\n",
       "</table>\n",
       "<p>614 rows × 8 columns</p>\n",
       "</div>"
      ],
      "text/plain": [
       "     PlayerId NameFirst   NameLast CurrentHandle CountryCode  TotalUSDPrize  \\\n",
       "0        3883     Peter  Rasmussen       dupreeh          dk     1822989.41   \n",
       "1        3679   Andreas   Højsleth         Xyp9x          dk     1799288.57   \n",
       "2        3885   Nicolai     Reedtz        dev1ce          dk     1787489.88   \n",
       "3        3672     Lukas  Rossander        gla1ve          dk     1652350.75   \n",
       "4       17800      Emil       Reif        Magisk          dk     1416448.64   \n",
       "..        ...       ...        ...           ...         ...            ...   \n",
       "992     29438   Anthony    Trevino           Ant          us       52375.00   \n",
       "993     38798         -          -        Trunks          cn       51231.70   \n",
       "996      3255      Drew  Biessener   Tidesoftime          us       50449.60   \n",
       "998     43043      Mike    Eichner           Ike          us       48550.00   \n",
       "999      1100   Jeffrey      Brusi          SjoW          se       47973.61   \n",
       "\n",
       "                                 Game                  Genre  \n",
       "0    Counter-Strike: Global Offensive   First-Person Shooter  \n",
       "1    Counter-Strike: Global Offensive   First-Person Shooter  \n",
       "2    Counter-Strike: Global Offensive   First-Person Shooter  \n",
       "3    Counter-Strike: Global Offensive   First-Person Shooter  \n",
       "4    Counter-Strike: Global Offensive   First-Person Shooter  \n",
       "..                                ...                    ...  \n",
       "992                       Hearthstone  Collectible Card Game  \n",
       "993                       Hearthstone  Collectible Card Game  \n",
       "996                       Hearthstone  Collectible Card Game  \n",
       "998                       Hearthstone  Collectible Card Game  \n",
       "999                       Hearthstone  Collectible Card Game  \n",
       "\n",
       "[614 rows x 8 columns]"
      ]
     },
     "execution_count": 18,
     "metadata": {},
     "output_type": "execute_result"
    }
   ],
   "source": [
    "#This new DataFrame has information about the top countries earnings'\n",
    "top_countries = players_df.loc[players_df['CountryCode'].isin(['cn', 'kr', 'us','dk','se'])]\n",
    "top_countries"
   ]
  },
  {
   "cell_type": "code",
   "execution_count": 19,
   "id": "e69b984e",
   "metadata": {
    "execution": {
     "iopub.execute_input": "2023-06-29T10:38:53.052095Z",
     "iopub.status.busy": "2023-06-29T10:38:53.051267Z",
     "iopub.status.idle": "2023-06-29T10:38:54.903069Z",
     "shell.execute_reply": "2023-06-29T10:38:54.902020Z"
    },
    "papermill": {
     "duration": 1.86528,
     "end_time": "2023-06-29T10:38:54.905539",
     "exception": false,
     "start_time": "2023-06-29T10:38:53.040259",
     "status": "completed"
    },
    "tags": []
   },
   "outputs": [
    {
     "data": {
      "text/html": [
       "        <script type=\"text/javascript\">\n",
       "        window.PlotlyConfig = {MathJaxConfig: 'local'};\n",
       "        if (window.MathJax && window.MathJax.Hub && window.MathJax.Hub.Config) {window.MathJax.Hub.Config({SVG: {font: \"STIX-Web\"}});}\n",
       "        if (typeof require !== 'undefined') {\n",
       "        require.undef(\"plotly\");\n",
       "        requirejs.config({\n",
       "            paths: {\n",
       "                'plotly': ['https://cdn.plot.ly/plotly-2.20.0.min']\n",
       "            }\n",
       "        });\n",
       "        require(['plotly'], function(Plotly) {\n",
       "            window._Plotly = Plotly;\n",
       "        });\n",
       "        }\n",
       "        </script>\n",
       "        "
      ]
     },
     "metadata": {},
     "output_type": "display_data"
    },
    {
     "data": {
      "text/html": [
       "<div>                            <div id=\"0fba9c80-42d4-41e2-94bd-361afc91d97a\" class=\"plotly-graph-div\" style=\"height:800px; width:800px;\"></div>            <script type=\"text/javascript\">                require([\"plotly\"], function(Plotly) {                    window.PLOTLYENV=window.PLOTLYENV || {};                                    if (document.getElementById(\"0fba9c80-42d4-41e2-94bd-361afc91d97a\")) {                    Plotly.newPlot(                        \"0fba9c80-42d4-41e2-94bd-361afc91d97a\",                        [{\"branchvalues\":\"total\",\"domain\":{\"x\":[0.0,1.0],\"y\":[0.0,1.0]},\"hovertemplate\":\"labels=%{label}<br>TotalUSDPrize=%{value}<br>parent=%{parent}<br>id=%{id}<extra></extra>\",\"ids\":[\"cn/Arena of Valor\",\"kr/Arena of Valor\",\"us/Arena of Valor\",\"cn/Counter-Strike: Global Offensive\",\"dk/Counter-Strike: Global Offensive\",\"se/Counter-Strike: Global Offensive\",\"us/Counter-Strike: Global Offensive\",\"cn/Dota 2\",\"dk/Dota 2\",\"kr/Dota 2\",\"se/Dota 2\",\"us/Dota 2\",\"dk/Fortnite\",\"kr/Fortnite\",\"se/Fortnite\",\"us/Fortnite\",\"cn/Hearthstone\",\"dk/Hearthstone\",\"kr/Hearthstone\",\"se/Hearthstone\",\"us/Hearthstone\",\"cn/Heroes of the Storm\",\"dk/Heroes of the Storm\",\"kr/Heroes of the Storm\",\"se/Heroes of the Storm\",\"us/Heroes of the Storm\",\"cn/League of Legends\",\"dk/League of Legends\",\"kr/League of Legends\",\"se/League of Legends\",\"us/League of Legends\",\"cn/Overwatch\",\"kr/Overwatch\",\"se/Overwatch\",\"us/Overwatch\",\"cn/PUBG\",\"dk/PUBG\",\"kr/PUBG\",\"se/PUBG\",\"us/PUBG\",\"cn/Starcraft II\",\"dk/Starcraft II\",\"kr/Starcraft II\",\"se/Starcraft II\",\"us/Starcraft II\",\"cn\",\"dk\",\"kr\",\"se\",\"us\"],\"labels\":[\"Arena of Valor\",\"Arena of Valor\",\"Arena of Valor\",\"Counter-Strike: Global Offensive\",\"Counter-Strike: Global Offensive\",\"Counter-Strike: Global Offensive\",\"Counter-Strike: Global Offensive\",\"Dota 2\",\"Dota 2\",\"Dota 2\",\"Dota 2\",\"Dota 2\",\"Fortnite\",\"Fortnite\",\"Fortnite\",\"Fortnite\",\"Hearthstone\",\"Hearthstone\",\"Hearthstone\",\"Hearthstone\",\"Hearthstone\",\"Heroes of the Storm\",\"Heroes of the Storm\",\"Heroes of the Storm\",\"Heroes of the Storm\",\"Heroes of the Storm\",\"League of Legends\",\"League of Legends\",\"League of Legends\",\"League of Legends\",\"League of Legends\",\"Overwatch\",\"Overwatch\",\"Overwatch\",\"Overwatch\",\"PUBG\",\"PUBG\",\"PUBG\",\"PUBG\",\"PUBG\",\"Starcraft II\",\"Starcraft II\",\"Starcraft II\",\"Starcraft II\",\"Starcraft II\",\"cn\",\"dk\",\"kr\",\"se\",\"us\"],\"name\":\"\",\"parents\":[\"cn\",\"kr\",\"us\",\"cn\",\"dk\",\"se\",\"us\",\"cn\",\"dk\",\"kr\",\"se\",\"us\",\"dk\",\"kr\",\"se\",\"us\",\"cn\",\"dk\",\"kr\",\"se\",\"us\",\"cn\",\"dk\",\"kr\",\"se\",\"us\",\"cn\",\"dk\",\"kr\",\"se\",\"us\",\"cn\",\"kr\",\"se\",\"us\",\"cn\",\"dk\",\"kr\",\"se\",\"us\",\"cn\",\"dk\",\"kr\",\"se\",\"us\",\"\",\"\",\"\",\"\",\"\"],\"values\":[4026577.1399999997,691962.33,34190.6,242273.51,11886326.85,7330213.14,6213733.64,53582400.36,11179729.620000001,1784721.44,8698635.82,9427431.49,876725.84,147050.0,1358170.42,20413450.11,2079062.52,225293.27,875167.42,492289.41000000003,2316778.38,1518925.14,282008.41,4802679.99,1201377.93,1573720.8,7374567.6,2131562.55,18708972.51,599648.94,588932.29,142999.86000000002,9377752.11,319117.45999999996,917231.34,2381736.75,174957.5,4451553.56,407004.76,1090065.5,1043335.68,84195.98,17601874.35,363965.13,523847.63,72391878.56,26840800.02,58441733.71,20770423.009999998,43099381.78],\"type\":\"sunburst\"}],                        {\"template\":{\"data\":{\"histogram2dcontour\":[{\"type\":\"histogram2dcontour\",\"colorbar\":{\"outlinewidth\":0,\"ticks\":\"\"},\"colorscale\":[[0.0,\"#0d0887\"],[0.1111111111111111,\"#46039f\"],[0.2222222222222222,\"#7201a8\"],[0.3333333333333333,\"#9c179e\"],[0.4444444444444444,\"#bd3786\"],[0.5555555555555556,\"#d8576b\"],[0.6666666666666666,\"#ed7953\"],[0.7777777777777778,\"#fb9f3a\"],[0.8888888888888888,\"#fdca26\"],[1.0,\"#f0f921\"]]}],\"choropleth\":[{\"type\":\"choropleth\",\"colorbar\":{\"outlinewidth\":0,\"ticks\":\"\"}}],\"histogram2d\":[{\"type\":\"histogram2d\",\"colorbar\":{\"outlinewidth\":0,\"ticks\":\"\"},\"colorscale\":[[0.0,\"#0d0887\"],[0.1111111111111111,\"#46039f\"],[0.2222222222222222,\"#7201a8\"],[0.3333333333333333,\"#9c179e\"],[0.4444444444444444,\"#bd3786\"],[0.5555555555555556,\"#d8576b\"],[0.6666666666666666,\"#ed7953\"],[0.7777777777777778,\"#fb9f3a\"],[0.8888888888888888,\"#fdca26\"],[1.0,\"#f0f921\"]]}],\"heatmap\":[{\"type\":\"heatmap\",\"colorbar\":{\"outlinewidth\":0,\"ticks\":\"\"},\"colorscale\":[[0.0,\"#0d0887\"],[0.1111111111111111,\"#46039f\"],[0.2222222222222222,\"#7201a8\"],[0.3333333333333333,\"#9c179e\"],[0.4444444444444444,\"#bd3786\"],[0.5555555555555556,\"#d8576b\"],[0.6666666666666666,\"#ed7953\"],[0.7777777777777778,\"#fb9f3a\"],[0.8888888888888888,\"#fdca26\"],[1.0,\"#f0f921\"]]}],\"heatmapgl\":[{\"type\":\"heatmapgl\",\"colorbar\":{\"outlinewidth\":0,\"ticks\":\"\"},\"colorscale\":[[0.0,\"#0d0887\"],[0.1111111111111111,\"#46039f\"],[0.2222222222222222,\"#7201a8\"],[0.3333333333333333,\"#9c179e\"],[0.4444444444444444,\"#bd3786\"],[0.5555555555555556,\"#d8576b\"],[0.6666666666666666,\"#ed7953\"],[0.7777777777777778,\"#fb9f3a\"],[0.8888888888888888,\"#fdca26\"],[1.0,\"#f0f921\"]]}],\"contourcarpet\":[{\"type\":\"contourcarpet\",\"colorbar\":{\"outlinewidth\":0,\"ticks\":\"\"}}],\"contour\":[{\"type\":\"contour\",\"colorbar\":{\"outlinewidth\":0,\"ticks\":\"\"},\"colorscale\":[[0.0,\"#0d0887\"],[0.1111111111111111,\"#46039f\"],[0.2222222222222222,\"#7201a8\"],[0.3333333333333333,\"#9c179e\"],[0.4444444444444444,\"#bd3786\"],[0.5555555555555556,\"#d8576b\"],[0.6666666666666666,\"#ed7953\"],[0.7777777777777778,\"#fb9f3a\"],[0.8888888888888888,\"#fdca26\"],[1.0,\"#f0f921\"]]}],\"surface\":[{\"type\":\"surface\",\"colorbar\":{\"outlinewidth\":0,\"ticks\":\"\"},\"colorscale\":[[0.0,\"#0d0887\"],[0.1111111111111111,\"#46039f\"],[0.2222222222222222,\"#7201a8\"],[0.3333333333333333,\"#9c179e\"],[0.4444444444444444,\"#bd3786\"],[0.5555555555555556,\"#d8576b\"],[0.6666666666666666,\"#ed7953\"],[0.7777777777777778,\"#fb9f3a\"],[0.8888888888888888,\"#fdca26\"],[1.0,\"#f0f921\"]]}],\"mesh3d\":[{\"type\":\"mesh3d\",\"colorbar\":{\"outlinewidth\":0,\"ticks\":\"\"}}],\"scatter\":[{\"fillpattern\":{\"fillmode\":\"overlay\",\"size\":10,\"solidity\":0.2},\"type\":\"scatter\"}],\"parcoords\":[{\"type\":\"parcoords\",\"line\":{\"colorbar\":{\"outlinewidth\":0,\"ticks\":\"\"}}}],\"scatterpolargl\":[{\"type\":\"scatterpolargl\",\"marker\":{\"colorbar\":{\"outlinewidth\":0,\"ticks\":\"\"}}}],\"bar\":[{\"error_x\":{\"color\":\"#2a3f5f\"},\"error_y\":{\"color\":\"#2a3f5f\"},\"marker\":{\"line\":{\"color\":\"#E5ECF6\",\"width\":0.5},\"pattern\":{\"fillmode\":\"overlay\",\"size\":10,\"solidity\":0.2}},\"type\":\"bar\"}],\"scattergeo\":[{\"type\":\"scattergeo\",\"marker\":{\"colorbar\":{\"outlinewidth\":0,\"ticks\":\"\"}}}],\"scatterpolar\":[{\"type\":\"scatterpolar\",\"marker\":{\"colorbar\":{\"outlinewidth\":0,\"ticks\":\"\"}}}],\"histogram\":[{\"marker\":{\"pattern\":{\"fillmode\":\"overlay\",\"size\":10,\"solidity\":0.2}},\"type\":\"histogram\"}],\"scattergl\":[{\"type\":\"scattergl\",\"marker\":{\"colorbar\":{\"outlinewidth\":0,\"ticks\":\"\"}}}],\"scatter3d\":[{\"type\":\"scatter3d\",\"line\":{\"colorbar\":{\"outlinewidth\":0,\"ticks\":\"\"}},\"marker\":{\"colorbar\":{\"outlinewidth\":0,\"ticks\":\"\"}}}],\"scattermapbox\":[{\"type\":\"scattermapbox\",\"marker\":{\"colorbar\":{\"outlinewidth\":0,\"ticks\":\"\"}}}],\"scatterternary\":[{\"type\":\"scatterternary\",\"marker\":{\"colorbar\":{\"outlinewidth\":0,\"ticks\":\"\"}}}],\"scattercarpet\":[{\"type\":\"scattercarpet\",\"marker\":{\"colorbar\":{\"outlinewidth\":0,\"ticks\":\"\"}}}],\"carpet\":[{\"aaxis\":{\"endlinecolor\":\"#2a3f5f\",\"gridcolor\":\"white\",\"linecolor\":\"white\",\"minorgridcolor\":\"white\",\"startlinecolor\":\"#2a3f5f\"},\"baxis\":{\"endlinecolor\":\"#2a3f5f\",\"gridcolor\":\"white\",\"linecolor\":\"white\",\"minorgridcolor\":\"white\",\"startlinecolor\":\"#2a3f5f\"},\"type\":\"carpet\"}],\"table\":[{\"cells\":{\"fill\":{\"color\":\"#EBF0F8\"},\"line\":{\"color\":\"white\"}},\"header\":{\"fill\":{\"color\":\"#C8D4E3\"},\"line\":{\"color\":\"white\"}},\"type\":\"table\"}],\"barpolar\":[{\"marker\":{\"line\":{\"color\":\"#E5ECF6\",\"width\":0.5},\"pattern\":{\"fillmode\":\"overlay\",\"size\":10,\"solidity\":0.2}},\"type\":\"barpolar\"}],\"pie\":[{\"automargin\":true,\"type\":\"pie\"}]},\"layout\":{\"autotypenumbers\":\"strict\",\"colorway\":[\"#636efa\",\"#EF553B\",\"#00cc96\",\"#ab63fa\",\"#FFA15A\",\"#19d3f3\",\"#FF6692\",\"#B6E880\",\"#FF97FF\",\"#FECB52\"],\"font\":{\"color\":\"#2a3f5f\"},\"hovermode\":\"closest\",\"hoverlabel\":{\"align\":\"left\"},\"paper_bgcolor\":\"white\",\"plot_bgcolor\":\"#E5ECF6\",\"polar\":{\"bgcolor\":\"#E5ECF6\",\"angularaxis\":{\"gridcolor\":\"white\",\"linecolor\":\"white\",\"ticks\":\"\"},\"radialaxis\":{\"gridcolor\":\"white\",\"linecolor\":\"white\",\"ticks\":\"\"}},\"ternary\":{\"bgcolor\":\"#E5ECF6\",\"aaxis\":{\"gridcolor\":\"white\",\"linecolor\":\"white\",\"ticks\":\"\"},\"baxis\":{\"gridcolor\":\"white\",\"linecolor\":\"white\",\"ticks\":\"\"},\"caxis\":{\"gridcolor\":\"white\",\"linecolor\":\"white\",\"ticks\":\"\"}},\"coloraxis\":{\"colorbar\":{\"outlinewidth\":0,\"ticks\":\"\"}},\"colorscale\":{\"sequential\":[[0.0,\"#0d0887\"],[0.1111111111111111,\"#46039f\"],[0.2222222222222222,\"#7201a8\"],[0.3333333333333333,\"#9c179e\"],[0.4444444444444444,\"#bd3786\"],[0.5555555555555556,\"#d8576b\"],[0.6666666666666666,\"#ed7953\"],[0.7777777777777778,\"#fb9f3a\"],[0.8888888888888888,\"#fdca26\"],[1.0,\"#f0f921\"]],\"sequentialminus\":[[0.0,\"#0d0887\"],[0.1111111111111111,\"#46039f\"],[0.2222222222222222,\"#7201a8\"],[0.3333333333333333,\"#9c179e\"],[0.4444444444444444,\"#bd3786\"],[0.5555555555555556,\"#d8576b\"],[0.6666666666666666,\"#ed7953\"],[0.7777777777777778,\"#fb9f3a\"],[0.8888888888888888,\"#fdca26\"],[1.0,\"#f0f921\"]],\"diverging\":[[0,\"#8e0152\"],[0.1,\"#c51b7d\"],[0.2,\"#de77ae\"],[0.3,\"#f1b6da\"],[0.4,\"#fde0ef\"],[0.5,\"#f7f7f7\"],[0.6,\"#e6f5d0\"],[0.7,\"#b8e186\"],[0.8,\"#7fbc41\"],[0.9,\"#4d9221\"],[1,\"#276419\"]]},\"xaxis\":{\"gridcolor\":\"white\",\"linecolor\":\"white\",\"ticks\":\"\",\"title\":{\"standoff\":15},\"zerolinecolor\":\"white\",\"automargin\":true,\"zerolinewidth\":2},\"yaxis\":{\"gridcolor\":\"white\",\"linecolor\":\"white\",\"ticks\":\"\",\"title\":{\"standoff\":15},\"zerolinecolor\":\"white\",\"automargin\":true,\"zerolinewidth\":2},\"scene\":{\"xaxis\":{\"backgroundcolor\":\"#E5ECF6\",\"gridcolor\":\"white\",\"linecolor\":\"white\",\"showbackground\":true,\"ticks\":\"\",\"zerolinecolor\":\"white\",\"gridwidth\":2},\"yaxis\":{\"backgroundcolor\":\"#E5ECF6\",\"gridcolor\":\"white\",\"linecolor\":\"white\",\"showbackground\":true,\"ticks\":\"\",\"zerolinecolor\":\"white\",\"gridwidth\":2},\"zaxis\":{\"backgroundcolor\":\"#E5ECF6\",\"gridcolor\":\"white\",\"linecolor\":\"white\",\"showbackground\":true,\"ticks\":\"\",\"zerolinecolor\":\"white\",\"gridwidth\":2}},\"shapedefaults\":{\"line\":{\"color\":\"#2a3f5f\"}},\"annotationdefaults\":{\"arrowcolor\":\"#2a3f5f\",\"arrowhead\":0,\"arrowwidth\":1},\"geo\":{\"bgcolor\":\"white\",\"landcolor\":\"#E5ECF6\",\"subunitcolor\":\"white\",\"showland\":true,\"showlakes\":true,\"lakecolor\":\"white\"},\"title\":{\"x\":0.05},\"mapbox\":{\"style\":\"light\"}}},\"legend\":{\"tracegroupgap\":0},\"margin\":{\"t\":60},\"height\":800,\"width\":800},                        {\"responsive\": true}                    ).then(function(){\n",
       "                            \n",
       "var gd = document.getElementById('0fba9c80-42d4-41e2-94bd-361afc91d97a');\n",
       "var x = new MutationObserver(function (mutations, observer) {{\n",
       "        var display = window.getComputedStyle(gd).display;\n",
       "        if (!display || display === 'none') {{\n",
       "            console.log([gd, 'removed!']);\n",
       "            Plotly.purge(gd);\n",
       "            observer.disconnect();\n",
       "        }}\n",
       "}});\n",
       "\n",
       "// Listen for the removal of the full notebook cells\n",
       "var notebookContainer = gd.closest('#notebook-container');\n",
       "if (notebookContainer) {{\n",
       "    x.observe(notebookContainer, {childList: true});\n",
       "}}\n",
       "\n",
       "// Listen for the clearing of the current output cell\n",
       "var outputEl = gd.closest('.output');\n",
       "if (outputEl) {{\n",
       "    x.observe(outputEl, {childList: true});\n",
       "}}\n",
       "\n",
       "                        })                };                });            </script>        </div>"
      ]
     },
     "metadata": {},
     "output_type": "display_data"
    }
   ],
   "source": [
    "countries_prize = top_countries.groupby(['CountryCode','Game'])['TotalUSDPrize'].sum() \\\n",
    "             .reset_index().sort_values('TotalUSDPrize', ascending=False)\n",
    "\n",
    "fig = px.sunburst(countries_prize, path=['CountryCode','Game'], values='TotalUSDPrize',width=800, height=800)\n",
    "fig.show()"
   ]
  },
  {
   "cell_type": "markdown",
   "id": "bcea8a12",
   "metadata": {
    "papermill": {
     "duration": 0.009982,
     "end_time": "2023-06-29T10:38:54.926172",
     "exception": false,
     "start_time": "2023-06-29T10:38:54.916190",
     "status": "completed"
    },
    "tags": []
   },
   "source": [
    "# Finding the top 5 players' earnings\n",
    "1. first we will merge first and last name to get the full name\n",
    "2. Sorting the highest earnings\n",
    "2. plotting "
   ]
  },
  {
   "cell_type": "code",
   "execution_count": 20,
   "id": "74eadff6",
   "metadata": {
    "execution": {
     "iopub.execute_input": "2023-06-29T10:38:54.949185Z",
     "iopub.status.busy": "2023-06-29T10:38:54.948205Z",
     "iopub.status.idle": "2023-06-29T10:38:54.959720Z",
     "shell.execute_reply": "2023-06-29T10:38:54.958938Z"
    },
    "papermill": {
     "duration": 0.025422,
     "end_time": "2023-06-29T10:38:54.961912",
     "exception": false,
     "start_time": "2023-06-29T10:38:54.936490",
     "status": "completed"
    },
    "tags": []
   },
   "outputs": [
    {
     "data": {
      "text/plain": [
       "Full Name\n",
       "Johan Sundstein        6952596.58\n",
       "Jesse Vainikka         6470000.02\n",
       "Anathan Pham           6000411.96\n",
       "Sébastien Debs         5554297.41\n",
       "Topias Taavitsainen    5470902.57\n",
       "Name: TotalUSDPrize, dtype: float64"
      ]
     },
     "execution_count": 20,
     "metadata": {},
     "output_type": "execute_result"
    }
   ],
   "source": [
    "# Making New Column With Full Name\n",
    "players_df['Full Name'] = players_df['NameFirst'] + ' '+  players_df['NameLast']\n",
    "# having the top 5 earnings\n",
    "pl_earnings = players_df.groupby(['Full Name'])['TotalUSDPrize'].sum().sort_values(ascending=False).head(5)\n",
    "pl_earnings"
   ]
  },
  {
   "cell_type": "code",
   "execution_count": 21,
   "id": "df50293e",
   "metadata": {
    "execution": {
     "iopub.execute_input": "2023-06-29T10:38:54.984578Z",
     "iopub.status.busy": "2023-06-29T10:38:54.983954Z",
     "iopub.status.idle": "2023-06-29T10:38:55.095043Z",
     "shell.execute_reply": "2023-06-29T10:38:55.093853Z"
    },
    "papermill": {
     "duration": 0.125334,
     "end_time": "2023-06-29T10:38:55.097545",
     "exception": false,
     "start_time": "2023-06-29T10:38:54.972211",
     "status": "completed"
    },
    "tags": []
   },
   "outputs": [
    {
     "data": {
      "text/html": [
       "<div>                            <div id=\"dbd189bc-dfa9-4639-b528-a2061b6ccf6e\" class=\"plotly-graph-div\" style=\"height:525px; width:100%;\"></div>            <script type=\"text/javascript\">                require([\"plotly\"], function(Plotly) {                    window.PLOTLYENV=window.PLOTLYENV || {};                                    if (document.getElementById(\"dbd189bc-dfa9-4639-b528-a2061b6ccf6e\")) {                    Plotly.newPlot(                        \"dbd189bc-dfa9-4639-b528-a2061b6ccf6e\",                        [{\"alignmentgroup\":\"True\",\"hovertemplate\":\"Full Name=%{x}<br>TotalUSDPrize=%{marker.color}<extra></extra>\",\"legendgroup\":\"\",\"marker\":{\"color\":[6952596.58,6470000.02,6000411.96,5554297.41,5470902.57],\"coloraxis\":\"coloraxis\",\"pattern\":{\"shape\":\"\"}},\"name\":\"\",\"offsetgroup\":\"\",\"orientation\":\"v\",\"showlegend\":false,\"textposition\":\"auto\",\"x\":[\"Johan Sundstein\",\"Jesse Vainikka\",\"Anathan Pham\",\"Sébastien Debs\",\"Topias Taavitsainen\"],\"xaxis\":\"x\",\"y\":[6952596.58,6470000.02,6000411.96,5554297.41,5470902.57],\"yaxis\":\"y\",\"type\":\"bar\"}],                        {\"template\":{\"data\":{\"histogram2dcontour\":[{\"type\":\"histogram2dcontour\",\"colorbar\":{\"outlinewidth\":0,\"ticks\":\"\"},\"colorscale\":[[0.0,\"#0d0887\"],[0.1111111111111111,\"#46039f\"],[0.2222222222222222,\"#7201a8\"],[0.3333333333333333,\"#9c179e\"],[0.4444444444444444,\"#bd3786\"],[0.5555555555555556,\"#d8576b\"],[0.6666666666666666,\"#ed7953\"],[0.7777777777777778,\"#fb9f3a\"],[0.8888888888888888,\"#fdca26\"],[1.0,\"#f0f921\"]]}],\"choropleth\":[{\"type\":\"choropleth\",\"colorbar\":{\"outlinewidth\":0,\"ticks\":\"\"}}],\"histogram2d\":[{\"type\":\"histogram2d\",\"colorbar\":{\"outlinewidth\":0,\"ticks\":\"\"},\"colorscale\":[[0.0,\"#0d0887\"],[0.1111111111111111,\"#46039f\"],[0.2222222222222222,\"#7201a8\"],[0.3333333333333333,\"#9c179e\"],[0.4444444444444444,\"#bd3786\"],[0.5555555555555556,\"#d8576b\"],[0.6666666666666666,\"#ed7953\"],[0.7777777777777778,\"#fb9f3a\"],[0.8888888888888888,\"#fdca26\"],[1.0,\"#f0f921\"]]}],\"heatmap\":[{\"type\":\"heatmap\",\"colorbar\":{\"outlinewidth\":0,\"ticks\":\"\"},\"colorscale\":[[0.0,\"#0d0887\"],[0.1111111111111111,\"#46039f\"],[0.2222222222222222,\"#7201a8\"],[0.3333333333333333,\"#9c179e\"],[0.4444444444444444,\"#bd3786\"],[0.5555555555555556,\"#d8576b\"],[0.6666666666666666,\"#ed7953\"],[0.7777777777777778,\"#fb9f3a\"],[0.8888888888888888,\"#fdca26\"],[1.0,\"#f0f921\"]]}],\"heatmapgl\":[{\"type\":\"heatmapgl\",\"colorbar\":{\"outlinewidth\":0,\"ticks\":\"\"},\"colorscale\":[[0.0,\"#0d0887\"],[0.1111111111111111,\"#46039f\"],[0.2222222222222222,\"#7201a8\"],[0.3333333333333333,\"#9c179e\"],[0.4444444444444444,\"#bd3786\"],[0.5555555555555556,\"#d8576b\"],[0.6666666666666666,\"#ed7953\"],[0.7777777777777778,\"#fb9f3a\"],[0.8888888888888888,\"#fdca26\"],[1.0,\"#f0f921\"]]}],\"contourcarpet\":[{\"type\":\"contourcarpet\",\"colorbar\":{\"outlinewidth\":0,\"ticks\":\"\"}}],\"contour\":[{\"type\":\"contour\",\"colorbar\":{\"outlinewidth\":0,\"ticks\":\"\"},\"colorscale\":[[0.0,\"#0d0887\"],[0.1111111111111111,\"#46039f\"],[0.2222222222222222,\"#7201a8\"],[0.3333333333333333,\"#9c179e\"],[0.4444444444444444,\"#bd3786\"],[0.5555555555555556,\"#d8576b\"],[0.6666666666666666,\"#ed7953\"],[0.7777777777777778,\"#fb9f3a\"],[0.8888888888888888,\"#fdca26\"],[1.0,\"#f0f921\"]]}],\"surface\":[{\"type\":\"surface\",\"colorbar\":{\"outlinewidth\":0,\"ticks\":\"\"},\"colorscale\":[[0.0,\"#0d0887\"],[0.1111111111111111,\"#46039f\"],[0.2222222222222222,\"#7201a8\"],[0.3333333333333333,\"#9c179e\"],[0.4444444444444444,\"#bd3786\"],[0.5555555555555556,\"#d8576b\"],[0.6666666666666666,\"#ed7953\"],[0.7777777777777778,\"#fb9f3a\"],[0.8888888888888888,\"#fdca26\"],[1.0,\"#f0f921\"]]}],\"mesh3d\":[{\"type\":\"mesh3d\",\"colorbar\":{\"outlinewidth\":0,\"ticks\":\"\"}}],\"scatter\":[{\"fillpattern\":{\"fillmode\":\"overlay\",\"size\":10,\"solidity\":0.2},\"type\":\"scatter\"}],\"parcoords\":[{\"type\":\"parcoords\",\"line\":{\"colorbar\":{\"outlinewidth\":0,\"ticks\":\"\"}}}],\"scatterpolargl\":[{\"type\":\"scatterpolargl\",\"marker\":{\"colorbar\":{\"outlinewidth\":0,\"ticks\":\"\"}}}],\"bar\":[{\"error_x\":{\"color\":\"#2a3f5f\"},\"error_y\":{\"color\":\"#2a3f5f\"},\"marker\":{\"line\":{\"color\":\"#E5ECF6\",\"width\":0.5},\"pattern\":{\"fillmode\":\"overlay\",\"size\":10,\"solidity\":0.2}},\"type\":\"bar\"}],\"scattergeo\":[{\"type\":\"scattergeo\",\"marker\":{\"colorbar\":{\"outlinewidth\":0,\"ticks\":\"\"}}}],\"scatterpolar\":[{\"type\":\"scatterpolar\",\"marker\":{\"colorbar\":{\"outlinewidth\":0,\"ticks\":\"\"}}}],\"histogram\":[{\"marker\":{\"pattern\":{\"fillmode\":\"overlay\",\"size\":10,\"solidity\":0.2}},\"type\":\"histogram\"}],\"scattergl\":[{\"type\":\"scattergl\",\"marker\":{\"colorbar\":{\"outlinewidth\":0,\"ticks\":\"\"}}}],\"scatter3d\":[{\"type\":\"scatter3d\",\"line\":{\"colorbar\":{\"outlinewidth\":0,\"ticks\":\"\"}},\"marker\":{\"colorbar\":{\"outlinewidth\":0,\"ticks\":\"\"}}}],\"scattermapbox\":[{\"type\":\"scattermapbox\",\"marker\":{\"colorbar\":{\"outlinewidth\":0,\"ticks\":\"\"}}}],\"scatterternary\":[{\"type\":\"scatterternary\",\"marker\":{\"colorbar\":{\"outlinewidth\":0,\"ticks\":\"\"}}}],\"scattercarpet\":[{\"type\":\"scattercarpet\",\"marker\":{\"colorbar\":{\"outlinewidth\":0,\"ticks\":\"\"}}}],\"carpet\":[{\"aaxis\":{\"endlinecolor\":\"#2a3f5f\",\"gridcolor\":\"white\",\"linecolor\":\"white\",\"minorgridcolor\":\"white\",\"startlinecolor\":\"#2a3f5f\"},\"baxis\":{\"endlinecolor\":\"#2a3f5f\",\"gridcolor\":\"white\",\"linecolor\":\"white\",\"minorgridcolor\":\"white\",\"startlinecolor\":\"#2a3f5f\"},\"type\":\"carpet\"}],\"table\":[{\"cells\":{\"fill\":{\"color\":\"#EBF0F8\"},\"line\":{\"color\":\"white\"}},\"header\":{\"fill\":{\"color\":\"#C8D4E3\"},\"line\":{\"color\":\"white\"}},\"type\":\"table\"}],\"barpolar\":[{\"marker\":{\"line\":{\"color\":\"#E5ECF6\",\"width\":0.5},\"pattern\":{\"fillmode\":\"overlay\",\"size\":10,\"solidity\":0.2}},\"type\":\"barpolar\"}],\"pie\":[{\"automargin\":true,\"type\":\"pie\"}]},\"layout\":{\"autotypenumbers\":\"strict\",\"colorway\":[\"#636efa\",\"#EF553B\",\"#00cc96\",\"#ab63fa\",\"#FFA15A\",\"#19d3f3\",\"#FF6692\",\"#B6E880\",\"#FF97FF\",\"#FECB52\"],\"font\":{\"color\":\"#2a3f5f\"},\"hovermode\":\"closest\",\"hoverlabel\":{\"align\":\"left\"},\"paper_bgcolor\":\"white\",\"plot_bgcolor\":\"#E5ECF6\",\"polar\":{\"bgcolor\":\"#E5ECF6\",\"angularaxis\":{\"gridcolor\":\"white\",\"linecolor\":\"white\",\"ticks\":\"\"},\"radialaxis\":{\"gridcolor\":\"white\",\"linecolor\":\"white\",\"ticks\":\"\"}},\"ternary\":{\"bgcolor\":\"#E5ECF6\",\"aaxis\":{\"gridcolor\":\"white\",\"linecolor\":\"white\",\"ticks\":\"\"},\"baxis\":{\"gridcolor\":\"white\",\"linecolor\":\"white\",\"ticks\":\"\"},\"caxis\":{\"gridcolor\":\"white\",\"linecolor\":\"white\",\"ticks\":\"\"}},\"coloraxis\":{\"colorbar\":{\"outlinewidth\":0,\"ticks\":\"\"}},\"colorscale\":{\"sequential\":[[0.0,\"#0d0887\"],[0.1111111111111111,\"#46039f\"],[0.2222222222222222,\"#7201a8\"],[0.3333333333333333,\"#9c179e\"],[0.4444444444444444,\"#bd3786\"],[0.5555555555555556,\"#d8576b\"],[0.6666666666666666,\"#ed7953\"],[0.7777777777777778,\"#fb9f3a\"],[0.8888888888888888,\"#fdca26\"],[1.0,\"#f0f921\"]],\"sequentialminus\":[[0.0,\"#0d0887\"],[0.1111111111111111,\"#46039f\"],[0.2222222222222222,\"#7201a8\"],[0.3333333333333333,\"#9c179e\"],[0.4444444444444444,\"#bd3786\"],[0.5555555555555556,\"#d8576b\"],[0.6666666666666666,\"#ed7953\"],[0.7777777777777778,\"#fb9f3a\"],[0.8888888888888888,\"#fdca26\"],[1.0,\"#f0f921\"]],\"diverging\":[[0,\"#8e0152\"],[0.1,\"#c51b7d\"],[0.2,\"#de77ae\"],[0.3,\"#f1b6da\"],[0.4,\"#fde0ef\"],[0.5,\"#f7f7f7\"],[0.6,\"#e6f5d0\"],[0.7,\"#b8e186\"],[0.8,\"#7fbc41\"],[0.9,\"#4d9221\"],[1,\"#276419\"]]},\"xaxis\":{\"gridcolor\":\"white\",\"linecolor\":\"white\",\"ticks\":\"\",\"title\":{\"standoff\":15},\"zerolinecolor\":\"white\",\"automargin\":true,\"zerolinewidth\":2},\"yaxis\":{\"gridcolor\":\"white\",\"linecolor\":\"white\",\"ticks\":\"\",\"title\":{\"standoff\":15},\"zerolinecolor\":\"white\",\"automargin\":true,\"zerolinewidth\":2},\"scene\":{\"xaxis\":{\"backgroundcolor\":\"#E5ECF6\",\"gridcolor\":\"white\",\"linecolor\":\"white\",\"showbackground\":true,\"ticks\":\"\",\"zerolinecolor\":\"white\",\"gridwidth\":2},\"yaxis\":{\"backgroundcolor\":\"#E5ECF6\",\"gridcolor\":\"white\",\"linecolor\":\"white\",\"showbackground\":true,\"ticks\":\"\",\"zerolinecolor\":\"white\",\"gridwidth\":2},\"zaxis\":{\"backgroundcolor\":\"#E5ECF6\",\"gridcolor\":\"white\",\"linecolor\":\"white\",\"showbackground\":true,\"ticks\":\"\",\"zerolinecolor\":\"white\",\"gridwidth\":2}},\"shapedefaults\":{\"line\":{\"color\":\"#2a3f5f\"}},\"annotationdefaults\":{\"arrowcolor\":\"#2a3f5f\",\"arrowhead\":0,\"arrowwidth\":1},\"geo\":{\"bgcolor\":\"white\",\"landcolor\":\"#E5ECF6\",\"subunitcolor\":\"white\",\"showland\":true,\"showlakes\":true,\"lakecolor\":\"white\"},\"title\":{\"x\":0.05},\"mapbox\":{\"style\":\"light\"}}},\"xaxis\":{\"anchor\":\"y\",\"domain\":[0.0,1.0],\"title\":{\"text\":\"Full Name\"}},\"yaxis\":{\"anchor\":\"x\",\"domain\":[0.0,1.0],\"title\":{\"text\":\"TotalUSDPrize\"}},\"coloraxis\":{\"colorbar\":{\"title\":{\"text\":\"TotalUSDPrize\"}},\"colorscale\":[[0.0,\"#0d0887\"],[0.1111111111111111,\"#46039f\"],[0.2222222222222222,\"#7201a8\"],[0.3333333333333333,\"#9c179e\"],[0.4444444444444444,\"#bd3786\"],[0.5555555555555556,\"#d8576b\"],[0.6666666666666666,\"#ed7953\"],[0.7777777777777778,\"#fb9f3a\"],[0.8888888888888888,\"#fdca26\"],[1.0,\"#f0f921\"]]},\"legend\":{\"tracegroupgap\":0},\"margin\":{\"t\":60},\"barmode\":\"relative\"},                        {\"responsive\": true}                    ).then(function(){\n",
       "                            \n",
       "var gd = document.getElementById('dbd189bc-dfa9-4639-b528-a2061b6ccf6e');\n",
       "var x = new MutationObserver(function (mutations, observer) {{\n",
       "        var display = window.getComputedStyle(gd).display;\n",
       "        if (!display || display === 'none') {{\n",
       "            console.log([gd, 'removed!']);\n",
       "            Plotly.purge(gd);\n",
       "            observer.disconnect();\n",
       "        }}\n",
       "}});\n",
       "\n",
       "// Listen for the removal of the full notebook cells\n",
       "var notebookContainer = gd.closest('#notebook-container');\n",
       "if (notebookContainer) {{\n",
       "    x.observe(notebookContainer, {childList: true});\n",
       "}}\n",
       "\n",
       "// Listen for the clearing of the current output cell\n",
       "var outputEl = gd.closest('.output');\n",
       "if (outputEl) {{\n",
       "    x.observe(outputEl, {childList: true});\n",
       "}}\n",
       "\n",
       "                        })                };                });            </script>        </div>"
      ]
     },
     "metadata": {},
     "output_type": "display_data"
    }
   ],
   "source": [
    "fig = px.bar(pl_earnings,y='TotalUSDPrize',color='TotalUSDPrize')\n",
    "fig.show()"
   ]
  },
  {
   "cell_type": "markdown",
   "id": "e30f81e0",
   "metadata": {
    "papermill": {
     "duration": 0.010058,
     "end_time": "2023-06-29T10:38:55.118194",
     "exception": false,
     "start_time": "2023-06-29T10:38:55.108136",
     "status": "completed"
    },
    "tags": []
   },
   "source": [
    "# thanks to Jack Daoud for this DataSet (https://www.kaggle.com/jackdaoud)"
   ]
  }
 ],
 "metadata": {
  "kernelspec": {
   "display_name": "Python 3",
   "language": "python",
   "name": "python3"
  },
  "language_info": {
   "codemirror_mode": {
    "name": "ipython",
    "version": 3
   },
   "file_extension": ".py",
   "mimetype": "text/x-python",
   "name": "python",
   "nbconvert_exporter": "python",
   "pygments_lexer": "ipython3",
   "version": "3.10.10"
  },
  "papermill": {
   "default_parameters": {},
   "duration": 17.187495,
   "end_time": "2023-06-29T10:38:56.150732",
   "environment_variables": {},
   "exception": null,
   "input_path": "__notebook__.ipynb",
   "output_path": "__notebook__.ipynb",
   "parameters": {},
   "start_time": "2023-06-29T10:38:38.963237",
   "version": "2.4.0"
  }
 },
 "nbformat": 4,
 "nbformat_minor": 5
}
